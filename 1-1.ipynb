{
 "cells": [
  {
   "cell_type": "markdown",
   "metadata": {},
   "source": [
    "# 函数的参数\n",
    "- 先写一个计算x2的函数"
   ]
  },
  {
   "cell_type": "code",
   "execution_count": 2,
   "metadata": {},
   "outputs": [
    {
     "name": "stdout",
     "output_type": "stream",
     "text": [
      "9\n"
     ]
    }
   ],
   "source": [
    "def abc(x):\n",
    "    return x*x\n",
    "print(abc(3))"
   ]
  },
  {
   "cell_type": "markdown",
   "metadata": {},
   "source": [
    "- 对于abc()函数，参数x就是一个位置参数\n",
    "- 如果要计算n次方呢？\n",
    "- 我们可以传入两个参数"
   ]
  },
  {
   "cell_type": "code",
   "execution_count": 6,
   "metadata": {},
   "outputs": [
    {
     "name": "stdout",
     "output_type": "stream",
     "text": [
      "32\n"
     ]
    }
   ],
   "source": [
    "def abc(a,b):\n",
    "    s=1\n",
    "    while b>0:\n",
    "        b=b-1\n",
    "        s=s*a\n",
    "    return s\n",
    "print(abc(2,5))\n",
    "#print(abc(5))  这个会报错，错误信息，调用函数abc()缺少了一个位置参数n"
   ]
  },
  {
   "cell_type": "markdown",
   "metadata": {},
   "source": [
    "## 默认参数\n",
    "- 新的abc（a，b）函数定义没有问题，但是，旧的调用代码失败了，原因是我们增加了一个参数，导致旧的代码因为缺少一个参数而无法正常调用。\n",
    "- 这个时候，默认参数就派上用场了。由于我们经常计算x的平方，所以\n",
    "- 完全可以把第二个参数的b设定的默认值为2："
   ]
  },
  {
   "cell_type": "code",
   "execution_count": 8,
   "metadata": {},
   "outputs": [
    {
     "name": "stdout",
     "output_type": "stream",
     "text": [
      "32\n",
      "25\n"
     ]
    }
   ],
   "source": [
    "def abc(a,b=2):\n",
    "    s=1\n",
    "    while b>0:\n",
    "        s=s*a\n",
    "        b=b-1\n",
    "    return s\n",
    "print(abc(2,5))\n",
    "print(abc(5))# 这样我们调用power(5)相当于调用power(5,2)"
   ]
  },
  {
   "cell_type": "markdown",
   "metadata": {},
   "source": [
    "### 设置默认参数要注意的\n",
    "- 必选参数在前，默认参数在后，否则会报错\n",
    "- 二是如何设置默认参数\n",
    "    - 当函数有多个参数，把变化大的参数放在前面，变化小的放后面。变化小的参数就可以作为默认参数。\n",
    "- 使用默认参数的好处：能降低调用函数的难度。\n",
    "eg:"
   ]
  },
  {
   "cell_type": "code",
   "execution_count": 11,
   "metadata": {},
   "outputs": [
    {
     "name": "stdout",
     "output_type": "stream",
     "text": [
      "name:Sarah gender:F\n"
     ]
    }
   ],
   "source": [
    "def enroll(name,gender):\n",
    "    print('name:{0} gender:{1}'.format(name,gender))\n",
    "enroll('Sarah','F')"
   ]
  },
  {
   "cell_type": "markdown",
   "metadata": {},
   "source": [
    "- 如果要继续传入年龄，城市等信息，我们可以把年龄和城市设为默认参数："
   ]
  },
  {
   "cell_type": "code",
   "execution_count": 12,
   "metadata": {},
   "outputs": [
    {
     "name": "stdout",
     "output_type": "stream",
     "text": [
      "name:ALG,gender:M,age:7,city:Beijing\n",
      "name:Adam,gender:M,age:18,city:Tianjin\n"
     ]
    }
   ],
   "source": [
    "def enroll(name,gender,age=18,city='Beijing'):\n",
    "    print('name:{0},gender:{1},age:{2},city:{3}'.format(name,gender,age,city))\n",
    "enroll('ALG','M',7)\n",
    "enroll('Adam','M',city='Tianjin')"
   ]
  },
  {
   "cell_type": "markdown",
   "metadata": {},
   "source": [
    "- 有多个默认参数时，调用的时候，既可以按顺序提供默认参数，比如调用enroll('Bob', 'M', 7)，意思是，除了name，gender这两个参数外，最后1个参数应用在参数age上，city参数由于没有提供，仍然使用默认值。\n",
    "- 默认参数有个最大的坑，演示如下："
   ]
  },
  {
   "cell_type": "code",
   "execution_count": 24,
   "metadata": {},
   "outputs": [
    {
     "name": "stdout",
     "output_type": "stream",
     "text": [
      "[1, 2, 3, 'End']\n",
      "['x', 'y', 'z', 'End']\n",
      "['End']\n",
      "['End', 'End']\n",
      "['End', 'End', 'End']\n",
      "[1, 2, 5, 'End']\n",
      "['End', 'End', 'End', 'End']\n"
     ]
    }
   ],
   "source": [
    "def add_end(L=[]):\n",
    "    L.append('End')\n",
    "    return L\n",
    "print(add_end([1,2,3]))\n",
    "print(add_end(['x','y','z']))\n",
    "# 下面我们再来调用一下add_end()，使用默认参数\n",
    "print(add_end())\n",
    "# 再调用2次\n",
    "print(add_end())\n",
    "print(add_end())\n",
    "# 再尝试别的试试\n",
    "print(add_end([1,2,5]))\n",
    "print(add_end())#又是填'End'"
   ]
  },
  {
   "cell_type": "markdown",
   "metadata": {},
   "source": [
    "- 为什么会这样呢？\n",
    "- 原因解释如下：\n",
    "    - Python函数在定义的时候，默认参数L的值就被计算出来了，即[]，因为默认参数L也是一个变量，它指向对象[]，每次调用该函数，如果改变了L的内容,下次调用时，默认参数的内容就变了，不再是函数定义时的[]了。\n",
    "- 注意！！！：在定义默认参数时要牢记一点：默认参数必须指向不变对象。\n",
    "- 要修改上面的例子，我们可以用None这个不变对象来实现：\n"
   ]
  },
  {
   "cell_type": "code",
   "execution_count": 25,
   "metadata": {},
   "outputs": [
    {
     "name": "stdout",
     "output_type": "stream",
     "text": [
      "['End']\n",
      "['End']\n"
     ]
    }
   ],
   "source": [
    "def add_end(L=None):\n",
    "    if L is None:\n",
    "        L=[]\n",
    "    L.append('End')\n",
    "    return L\n",
    "#现在，无论调用多少次，都不会有问题啦\n",
    "print(add_end())\n",
    "print(add_end())"
   ]
  },
  {
   "cell_type": "markdown",
   "metadata": {},
   "source": [
    "为什么要设计str、None这样的不变对象呢？\n",
    "> 因为不变对象一旦创建，对象内部的数据就不能修改，这样就减少了由于修改数据导致的错误。此外，由于对象不变，多任务环境下同时读取对象就不需要加锁，同时读一点问题没有。我们在编写程序的时候，如果可以设计一个不变对象，那就尽量设计成不变对象。"
   ]
  },
  {
   "cell_type": "markdown",
   "metadata": {},
   "source": [
    "## 可变参数\n",
    "- 在Python函数中，还可以定义可变参数，顾名思义，可变参数就是传入的参数个数是可变的，可以是1个、2个到任意个，还可以是0个。\n",
    "- 我们以数学题为例子，给定一组数字a，b,c.....，请计算a^2+b^2+c^2+....。\n",
    "- 要定义出这个函数，我们必须确定输入的参数。由于参数不确定，我们首先可以想到把a,b,c......作为一个list或者tuple传进来，这样，函数可以定义如下："
   ]
  },
  {
   "cell_type": "code",
   "execution_count": 29,
   "metadata": {
    "scrolled": true
   },
   "outputs": [
    {
     "name": "stdout",
     "output_type": "stream",
     "text": [
      "14\n",
      "84\n"
     ]
    }
   ],
   "source": [
    "def calc(numbers):\n",
    "    sum=0\n",
    "    for n in numbers:\n",
    "        sum = sum+n*n\n",
    "    return sum\n",
    "print(calc([1,2,3]))\n",
    "print(calc((1,3,5,7)))\n",
    "#如果利用可变参数，调用函数的方式可以简化成这样:\n",
    "#print(calc(1,2,3))"
   ]
  },
  {
   "cell_type": "markdown",
   "metadata": {},
   "source": [
    "- 定义可变参数和定义一个list或者tuple参数相比，仅仅在参数前面加了一个*号。在函数内部，参数numbers接收到的是一个tuple。因此函数代码完全不变。但是，调用该函数时，可以传入任意个参数，包括0个参数。"
   ]
  },
  {
   "cell_type": "code",
   "execution_count": 31,
   "metadata": {},
   "outputs": [
    {
     "name": "stdout",
     "output_type": "stream",
     "text": [
      "5\n",
      "0\n"
     ]
    }
   ],
   "source": [
    "# 我们把函数的参数改为可变参数\n",
    "def calc(*numbers):\n",
    "    sum=0\n",
    "    for n in numbers:\n",
    "        sum+=n*n;\n",
    "    return sum\n",
    "print(calc(1,2))\n",
    "print(calc())"
   ]
  },
  {
   "cell_type": "markdown",
   "metadata": {},
   "source": [
    "- 如果已经有一个list或者tuple，要调用一个可变参数怎么办？\n",
    "- 可以这样做："
   ]
  },
  {
   "cell_type": "code",
   "execution_count": 34,
   "metadata": {
    "scrolled": false
   },
   "outputs": [
    {
     "name": "stdout",
     "output_type": "stream",
     "text": [
      "1 2 3\n",
      "1 2 3\n"
     ]
    }
   ],
   "source": [
    "num=[1,2,3]\n",
    "print(num[0],num[1],num[2])\n",
    "#这种写法当然是可以的，但是太繁琐了，\n",
    "#Python允许你在list或者tuple前面加一个*号，\n",
    "#把list或tuple的元素变成可变参数传进去。\n",
    "# 用法：\n",
    "print(*num)"
   ]
  },
  {
   "cell_type": "markdown",
   "metadata": {},
   "source": [
    "- *num表示把num这个list的所有元素作为可变参数传进去，这种写法相当有用，而且常见。\n",
    "## 关键字参数\n",
    "- 可变参数允许你传入0个或者任意个参数，这些可变参数在函数调用时自动组装为一个tuple，而关键字允许你传入0个或任意个含参数的参数，这些关键字参数在函数内部自动组装为一个dict。"
   ]
  },
  {
   "cell_type": "code",
   "execution_count": 48,
   "metadata": {
    "scrolled": true
   },
   "outputs": [
    {
     "name": "stdout",
     "output_type": "stream",
     "text": [
      "name:Michael age:30 other:{}\n",
      "None\n",
      "name:Bob age:35 other:{'city': 'Beijing'}\n",
      "None\n",
      "name:Adam age:15 other:{'gender': 'M', 'job': 'Enginerr', 'fatherage': 35}\n",
      "None\n"
     ]
    }
   ],
   "source": [
    "def person(name,age,**kw):\n",
    "    print('name:{0} age:{1} other:{2}'.format(name,age,kw))\n",
    "    #print('name:',name,'age:',age,'other:',kw)\n",
    "print(person('Michael',30))\n",
    "#函数person处理必选参数name和age外，还接受关键字参数kw。在调用该函数时，可以只传入必选参数。\n",
    "#也可以传入任意个数的关键字参数：\n",
    "print(person('Bob',35,city='Beijing'))\n",
    "print(person('Adam',15,gender='M',job='Enginerr',fatherage=35))"
   ]
  },
  {
   "cell_type": "markdown",
   "metadata": {},
   "source": [
    "- 关键字的作用：\n",
    "- 它可以拓展函数的功能，比如，在person函数里，我们保证能接收到name和age这两个参数，但是，如果调用者愿意提供更多的信息，我们也能收到。试想你正在做一个用户注册的功能，除了用户名和年龄是必填项之外，其他都是可选项，利用关键字参数来定义这个函数就能满足注册的需求。\n",
    "- 和可变参数类似，也可以先组装一个dict，然后吧该dict转换为关键字参数传进去："
   ]
  },
  {
   "cell_type": "code",
   "execution_count": 50,
   "metadata": {},
   "outputs": [
    {
     "name": "stdout",
     "output_type": "stream",
     "text": [
      "name:Snake age:25 other:{'city': 'Beijing', 'job': 'Engineer'}\n",
      "None\n",
      "name:Snake age:25 other:{'city': 'Beijing', 'job': 'Engineer'}\n",
      "None\n"
     ]
    }
   ],
   "source": [
    "extra={'city':'Beijing','job':'Engineer'}\n",
    "print(person('Snake',25,city=extra['city'],job=extra['job']))\n",
    "#当然，上面复杂的调用可以用简化的写法\n",
    "print(person('Snake',25,**extra))\n",
    "# **extra表示把extra这个dict的所有key-value用关键字参数传入到函数的**kw参数，\n",
    "# kw将获得一个dict，注意kw获得的dict是extra的一份拷贝，\n",
    "# 对kw的改动不会影响到函数外的extra"
   ]
  },
  {
   "cell_type": "markdown",
   "metadata": {},
   "source": [
    "## 命名关键字参数\n",
    "- 对于关键字参数，函数的调用者可以传入任意不受限制的关键字参数。至于到底传入那些，就需要在函数内部通过kw检查。\n",
    "- 仍以person()函数为例，我们希望检查是否有city和job参数："
   ]
  },
  {
   "cell_type": "code",
   "execution_count": 60,
   "metadata": {},
   "outputs": [
    {
     "name": "stdout",
     "output_type": "stream",
     "text": [
      "额外信息中有城市\n",
      "name:Jack age:24 other:{'city': 'Beijing', 'addr': 'chaoyang', 'zipcode': 123456}\n",
      "None\n",
      "ALG 19 Beijing Engineer\n",
      "None\n",
      "Jack 24 Beijing Engineer\n",
      "None\n"
     ]
    }
   ],
   "source": [
    "def person(name,age,**kw):\n",
    "    if 'city' in kw:\n",
    "        print('额外信息中有城市')\n",
    "    if 'job' in kw:\n",
    "        print('you have a job')\n",
    "    print('name:{0} age:{1} other:{2}'.format(name,age,kw))\n",
    "# 但是调用者仍可以传入不受限制的关键字参数：\n",
    "print(person('Jack',24, city='Beijing',addr='chaoyang',zipcode=123456))\n",
    "# 如果要限制关键字参数的名字，就可以用命名关键字参数，\n",
    "#例如，只接收city和job作为关键字参数。这种方式定义的函数如下：\n",
    "def person(name,age,*,city,job):\n",
    "    print(name,age,city,job)\n",
    "# 和关键字参数**kw不同，命名关键字参数需要一个特殊分隔符*，*后面的参数被视为命名关键字参数。\n",
    "# 调用方式如下：\n",
    "print(person('ALG',19,city='Beijing',job='Engineer'))\n",
    "# 如果函数定义中已经有一个可变参数，后面跟着的命名关键字参数就不再需要一个特殊分隔符*了：\n",
    "def person(name,age,*args,city,job):\n",
    "    print(name,age,args,city,job)\n",
    "# 命名关键字参数必须传入参数名，这和位置参数不同，\n",
    "#如果没有传入参数名，调用将报错：\n",
    "#person('Jack',24,'Beijing','Engineer')#TypeError: person() missing 2 required keyword-only arguments: 'city' and 'job'\n",
    "#命名关键字参数可以有缺省值，从而简化调用：\n",
    "def person(name,age,*,city='Beijing',job):\n",
    "    print(name,age,city,job)\n",
    "#由于命名关键字参数city具有默认值，调用时，可不传入city参数：\n",
    "print(person('Jack',24,job='Engineer'))\n"
   ]
  },
  {
   "cell_type": "markdown",
   "metadata": {},
   "source": [
    "- 使用命名关键字参数时，要特别注意，如果没有可变参数，就必须加一个*作为特殊分隔符。如果缺少*，Python解释器将无法识别位置参数和命名关键字参数："
   ]
  },
  {
   "cell_type": "code",
   "execution_count": 61,
   "metadata": {},
   "outputs": [],
   "source": [
    "def person(name, age, city, job):\n",
    "    # 缺少 *，city和job被视为位置参数\n",
    "    pass"
   ]
  },
  {
   "cell_type": "markdown",
   "metadata": {},
   "source": [
    "## 参数组合\n",
    "- 在Python中定义函数，可以用必选参数、默认参数、可变参数、关键字参数和命名关键字参数，这五种参数都可以组合使用。\n",
    "- 但是请注意：参数定义的顺序是：必选参数、默认参数、可变参数、命名关键字和关键字参数。\n",
    "- 比如定义一个函数，包含上述若干种参数："
   ]
  },
  {
   "cell_type": "code",
   "execution_count": 15,
   "metadata": {},
   "outputs": [
    {
     "name": "stdout",
     "output_type": "stream",
     "text": [
      "a= 1 b= 2 c= 0 args= () kw= {}\n",
      "None\n",
      "a= 1 b= 2 c= 3 args= () kw= {}\n",
      "None\n",
      "a= 1 b= 2 c= 3 args= ('a', 'b') kw= {}\n",
      "None\n",
      "a= 1 b= 2 c= 3 args= ('a', 'b') kw= {'x': 99}\n",
      "None\n",
      "a = 1 b = 2 c = 0 d = 99 kw = {'ext': None}\n",
      "None\n",
      "a= 1 b= 2 c= 3 args= (4,) kw= {'d': 99, 'x': '#'}\n",
      "None\n",
      "a = 1 b = 2 c = 3 d = 88 kw = {'x': '#'}\n",
      "None\n"
     ]
    }
   ],
   "source": [
    "def f1(a,b,c=0,*args,**kw):\n",
    "    print('a=',a,'b=',b,'c=',c,'args=',args, 'kw=',kw)\n",
    "def f2(a,b,c=0,*,d,**kw):\n",
    "    print('a =', a, 'b =', b, 'c =', c, 'd =', d, 'kw =', kw)\n",
    "#在函数调用的时候，Python解释器自动按照参数位置和参数名把对应的参数传进去。\n",
    "print(f1(1,2))\n",
    "print(f1(1,2,3))#print(f1(1,2,c=3))\n",
    "print(f1(1,2,3,'a','b'))\n",
    "print(f1(1,2,3,'a','b',x=99))\n",
    "print(f2(1,2,d=99,ext=None))\n",
    "#最神奇的是通过一个tuple和dict，你也可以调用上述函数：\n",
    "args=(1,2,3,4)\n",
    "kw={'d':99,'x':'#'}\n",
    "print(f1(*args,**kw))\n",
    "args=(1,2,3)\n",
    "kw={'d':88,'x':'#'}\n",
    "print(f2(*args,**kw))"
   ]
  },
  {
   "cell_type": "markdown",
   "metadata": {},
   "source": [
    "- 所以，对于任意函数，都可以通过类似func(*args, **kw)的形式调用它，无论它的参数是如何定义的。\n",
    "- 虽然可以组合多达5种参数，但不要同时使用太多的组合，否则函数接口的可理解性很差。"
   ]
  },
  {
   "cell_type": "code",
   "execution_count": 28,
   "metadata": {
    "scrolled": true
   },
   "outputs": [
    {
     "name": "stdout",
     "output_type": "stream",
     "text": [
      "product(5) = 5\n",
      "product(5, 6) = 30\n",
      "product(5, 6, 7) = 210\n",
      "product(5, 6, 7, 9) = 1890\n",
      "测试成功!\n"
     ]
    }
   ],
   "source": [
    "def product(*x):\n",
    "    if len(x)<=0:\n",
    "        raise TypeError\n",
    "    sum=1\n",
    "    for m in x:\n",
    "        sum*=m\n",
    "    return sum\n",
    "print('product(5) =', product(5))\n",
    "print('product(5, 6) =', product(5, 6))\n",
    "print('product(5, 6, 7) =', product(5, 6, 7))\n",
    "print('product(5, 6, 7, 9) =', product(5, 6, 7, 9))\n",
    "if product(5) != 5:\n",
    "    print('测试失败!')\n",
    "elif product(5, 6) != 30:\n",
    "    print('测试失败!')\n",
    "elif product(5, 6, 7) != 210:\n",
    "    print('测试失败!')\n",
    "elif product(5, 6, 7, 9) != 1890:\n",
    "    print('测试失败!')\n",
    "else:\n",
    "    try:\n",
    "        product()\n",
    "        print('测试失败!')\n",
    "    except TypeError:\n",
    "        print('测试成功!')"
   ]
  },
  {
   "cell_type": "markdown",
   "metadata": {},
   "source": [
    "# 小结\n",
    "- Python的函数具有非常灵活的参数形态，既可以实现简单的调用，又可以传入非常复杂的参数\n",
    "- 默认参数一定要用不可变对象，如果是可变对象，程序运行时会有逻辑错误！\n",
    "- 要注意定义可变参数和关键字参数的语法：\n",
    "    - *args是可变参数，args接收的是一个tuple\n",
    "    - **kw是关键字参数，kw接收的是一个dict\n",
    "- 以及调用函数时如何传入可变参数和关键字参数的语法：\n",
    "    - 可变参数既可以直接传入：func(1,2,3),又可以先组装list或者tuple，再通过*args传入:func(*(1,2,3))\n",
    "    - 关键字参数既可以直接传入：func(a=1,b=2),又可以先组装dict，再通过**kw传入：func(**{'a':1,'b':2})\n",
    "- 使用*args和**kw是Python的习惯写法，当然也可以用其他参数名，但最好使用习惯用法\n",
    "- 命名的关键字参数是为了限制调用者可以传入的参数名，同时可以提供默认值。\n",
    "- 定义命名的关键字参数在没有可变参数的情况下不要忘了写分隔符*，否则定义的将是位置参数。"
   ]
  }
 ],
 "metadata": {
  "kernelspec": {
   "display_name": "Python 3",
   "language": "python",
   "name": "python3"
  },
  "language_info": {
   "codemirror_mode": {
    "name": "ipython",
    "version": 3
   },
   "file_extension": ".py",
   "mimetype": "text/x-python",
   "name": "python",
   "nbconvert_exporter": "python",
   "pygments_lexer": "ipython3",
   "version": "3.6.5"
  }
 },
 "nbformat": 4,
 "nbformat_minor": 2
}
